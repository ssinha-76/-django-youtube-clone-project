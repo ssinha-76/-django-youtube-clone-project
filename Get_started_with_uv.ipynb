{
  "nbformat": 4,
  "nbformat_minor": 0,
  "metadata": {
    "colab": {
      "provenance": [],
      "include_colab_link": true
    },
    "kernelspec": {
      "name": "python3",
      "display_name": "Python 3"
    },
    "language_info": {
      "name": "python"
    }
  },
  "cells": [
    {
      "cell_type": "markdown",
      "metadata": {
        "id": "view-in-github",
        "colab_type": "text"
      },
      "source": [
        "<a href=\"https://colab.research.google.com/github/ssinha-76/-django-youtube-clone-project/blob/master/Get_started_with_uv.ipynb\" target=\"_parent\"><img src=\"https://colab.research.google.com/assets/colab-badge.svg\" alt=\"Open In Colab\"/></a>"
      ]
    },
    {
      "cell_type": "markdown",
      "source": [
        "# Get started with uv\n",
        "\n",
        "By: Avi Chawla and Akshay Pachaar ([Daily Dose of Data Science](https://join.dailydoseofds.com/))\n",
        "\n",
        "Note: All commands here start with \"!\" because you can run shell commands in a Jupyter notebook by adding a \"!\". When you run them in the terminal, make sure to remove \"!\"."
      ],
      "metadata": {
        "id": "qwSBqExFRbrd"
      }
    },
    {
      "cell_type": "markdown",
      "source": [
        "## Install a library with pip"
      ],
      "metadata": {
        "id": "gwRLIen-Rj0N"
      }
    },
    {
      "cell_type": "code",
      "source": [
        "# Installation with pip (notice the time)\n",
        "\n",
        "!pip install crewai"
      ],
      "metadata": {
        "collapsed": true,
        "id": "sqAMIchkUrA6"
      },
      "execution_count": null,
      "outputs": []
    },
    {
      "cell_type": "markdown",
      "source": [
        "## uv usage guide"
      ],
      "metadata": {
        "id": "3Z_GWPnHRnC1"
      }
    },
    {
      "cell_type": "code",
      "source": [
        "# initialize a new project\n",
        "\n",
        "!uv init test-uv"
      ],
      "metadata": {
        "id": "hcuLTptGQh2J"
      },
      "execution_count": null,
      "outputs": []
    },
    {
      "cell_type": "code",
      "source": [
        "# move to the directory\n",
        "\n",
        "%cd test-uv"
      ],
      "metadata": {
        "id": "iEvoGDIyQk_E"
      },
      "execution_count": null,
      "outputs": []
    },
    {
      "cell_type": "code",
      "source": [
        "# create a virtual environment\n",
        "\n",
        "!uv venv"
      ],
      "metadata": {
        "id": "zX-_HIpLQp4r"
      },
      "execution_count": null,
      "outputs": []
    },
    {
      "cell_type": "code",
      "source": [
        "# activate the env\n",
        "\n",
        "!source .venv/bin/activate"
      ],
      "metadata": {
        "id": "jReFT1tIQto9"
      },
      "execution_count": null,
      "outputs": []
    },
    {
      "cell_type": "code",
      "source": [
        "# Installation with uv\n",
        "\n",
        "!uv add crewai"
      ],
      "metadata": {
        "collapsed": true,
        "id": "EvKpqXuKVW2L"
      },
      "execution_count": null,
      "outputs": []
    },
    {
      "cell_type": "markdown",
      "source": [
        "Now open main.py file and add this:\n",
        "\n",
        "import firecrawl\n",
        "\n",
        "Next, open the pyproject.toml file and add this in the dependencies:\n",
        "\n",
        "\"firecrawl-py>=2.13.0\"\n",
        "\n",
        "The dependency file should look like this (without #):\n",
        "\n"
      ],
      "metadata": {
        "id": "RGZ1QwrxRz1c"
      }
    },
    {
      "cell_type": "code",
      "source": [
        "# [project]\n",
        "# name = \"test-uv\"\n",
        "# version = \"0.1.0\"\n",
        "# description = \"Add your description here\"\n",
        "# readme = \"README.md\"\n",
        "# requires-python = \">=3.11\"\n",
        "# dependencies = [\n",
        "#     \"crewai>=0.134.0\",\n",
        "#     \"firecrawl-py>=2.13.0\"\n",
        "# ]"
      ],
      "metadata": {
        "id": "oIsJNK6CRStc"
      },
      "execution_count": null,
      "outputs": []
    },
    {
      "cell_type": "markdown",
      "source": [
        "Notice that firecrawl is not available in our environment yet. Still, the script will run without any errors and firecrawl will be installed by uv:"
      ],
      "metadata": {
        "id": "hJbtRiviSeCI"
      }
    },
    {
      "cell_type": "code",
      "source": [
        "!uv run main.py"
      ],
      "metadata": {
        "id": "On2NzQk5RUl0"
      },
      "execution_count": null,
      "outputs": []
    },
    {
      "cell_type": "code",
      "source": [],
      "metadata": {
        "id": "hMOwT-BvTX_Z"
      },
      "execution_count": null,
      "outputs": []
    }
  ]
}